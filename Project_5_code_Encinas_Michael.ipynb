{
 "cells": [
  {
   "cell_type": "markdown",
   "id": "0a3a55a0",
   "metadata": {},
   "source": [
    "Homework No. 5\n",
    "Due November 15 (11:00 pm), 2024\n",
    "(100 points)\n",
    "\n",
    "Objectives\n",
    "1.\tApply K-Means clustering algorithm to real data\n",
    "2.\tAnalyze and optimize the parameters of the K-Means\n",
    "3.\tAnalyze and compare the clustering results.\n",
    "\n",
    "Problem 1 (100 points)\n",
    "a)\tUse the K-Means algorithm to cluster the provided data. Vary the number of clusters from 5 to 15 and select the optimal number. Justify your choice based on the SSE vs. No. clusters plot.\n",
    "b)\tUsing the number of clusters selected in (a), generate the silhouette plot. \n",
    "c)\tUsing the silhouette coefficients, identify 5 samples that are at the core of each cluster and 2 samples that are at the boundary of any two clusters (if they exist). Display the original images associated with these samples and comment on the results.\n",
    "d)\tCompute the adjusted rand index by comparing the generated clusters to the provided ground truth (this should be the only time you use the ground truth). \n",
    "\n",
    "Extra credit (30 pts) \n",
    "Note: You may downsample the data (maintaining the balance among all classes) if you do not have access to sufficient resources to run the hierarchical on this data.\n",
    "\n",
    "a)\tUse the hierarchical agglomerative algorithm, with the Ward’s method to compute the distance between two clusters, to cluster the provided data. Generate the dendrogram and use that to identify the optimal number of clusters. Justify your choice.\n",
    "b)\tUsing the number of clusters selected in (a), generate the silhouette plot.\n",
    "c)\tRepeat (a) and (b) using single-link and complete-link. Compare the silhouette plots of the 3 methods and identify the best distance for this data. Justify your choice.\n",
    "d)\tUsing the silhouette coefficients of the best method identified in (c), identify 5 samples that are at the core of each cluster and 2 samples that are at the boundary of any two clusters (if they exist). Display the original images associated with these samples and comment on the results.\n"
   ]
  },
  {
   "cell_type": "markdown",
   "id": "990e43df",
   "metadata": {},
   "source": [
    "CIFAR-10 - revisited\n",
    "\n",
    "\n",
    "The provided data contain 10K images from 5 classes ['plane','car','bird','horse','ship'] extracted from CIFAR-10 dataset. \n",
    "\n",
    "Three files are provided:\n",
    "\n",
    " - X: Contains the 128 features extracted from all the provided 10K images. (using a CNN)\n",
    "\n",
    " - y: Contains the true labels for each of the 10K images (one label by row): [0:'plane',1:'car',2:'bird',3:'horse',4:'ship'] \n",
    "\n",
    " - images: contain the original images. Each row contains 32*32*3 = 3072 columns corresponding to the scaled pixels intensity (1./255) acros the three RGB channels.\n",
    " PS: In order to visualize the image corresponding to a given rowm you should first revert it to its original shape (32,32,3).\n",
    " Example: To visualize the first image (row 0), you can use: plt.imshow(images[0].reshape(32,32,3))\n",
    "\n",
    "\n",
    "\n",
    "NB: the index order is respected in each of the three files: X[0] contain the the features extracted from images[0] whose label is y[0]\n"
   ]
  },
  {
   "cell_type": "code",
   "execution_count": 1,
   "id": "8de24ca5",
   "metadata": {},
   "outputs": [
    {
     "name": "stdout",
     "output_type": "stream",
     "text": [
      "Pandas version: 2.2.3\n",
      "NumPy version: 1.24.0\n"
     ]
    }
   ],
   "source": [
    "import pandas as pd\n",
    "import numpy as np\n",
    "\n",
    "print(\"Pandas version:\", pd.__version__)\n",
    "print(\"NumPy version:\", np.__version__)"
   ]
  },
  {
   "cell_type": "code",
   "execution_count": 2,
   "id": "aa088f8a",
   "metadata": {},
   "outputs": [],
   "source": [
    "import pandas as pd\n",
    "from sklearn.cluster import KMeans\n",
    "import matplotlib.pyplot as plt"
   ]
  },
  {
   "cell_type": "code",
   "execution_count": 3,
   "id": "a9100c98",
   "metadata": {},
   "outputs": [],
   "source": [
    "X = pd.read_csv('Features/X.csv')"
   ]
  },
  {
   "cell_type": "code",
   "execution_count": 4,
   "id": "725f1422",
   "metadata": {},
   "outputs": [
    {
     "name": "stdout",
     "output_type": "stream",
     "text": [
      "First 5 rows of X.csv:\n",
      "   0.46346056  9.042592   10.85815       0.0  5.690516  0.0.1  0.0.2  \\\n",
      "0    0.000000  3.272389   7.198232  0.000000  0.000000    0.0    0.0   \n",
      "1    0.000000  0.632320   3.815153  0.000000  6.290697    0.0    0.0   \n",
      "2    4.122074  1.916136  15.258545  0.000000  0.000000    0.0    0.0   \n",
      "3    0.000000  0.000000   3.467616  3.487184  0.000000    0.0    0.0   \n",
      "4    0.000000  0.000000   3.050006  1.275129  9.635914    0.0    0.0   \n",
      "\n",
      "   7.2261753     0.0.3  7.672988  ...  0.0.63    0.0.64   16.03831  0.0.65  \\\n",
      "0   3.866530  0.000000  1.638428  ...     0.0  0.000000  13.797885     0.0   \n",
      "1   8.492423  5.379466  2.708441  ...     0.0  5.192078   4.009046     0.0   \n",
      "2   3.151645  0.000000  4.893418  ...     0.0  0.532675   7.789596     0.0   \n",
      "3   0.000000  8.399324  7.640605  ...     0.0  8.419696   0.000000     0.0   \n",
      "4   0.857433  5.551315  1.438167  ...     0.0  2.291796   9.811793     0.0   \n",
      "\n",
      "   0.0.66    0.0.67    0.0.68  0.0.69     0.0.70    0.0.71  \n",
      "0     0.0  2.337896  0.528154     0.0   0.000000  0.000000  \n",
      "1     0.0  0.000000  1.315396     0.0   0.000000  0.000000  \n",
      "2     0.0  9.794974  0.000000     0.0  16.635849  0.000000  \n",
      "3     0.0  2.484975  0.056908     0.0   0.000000  4.494574  \n",
      "4     0.0  0.000000  3.195970     0.0   0.000000  0.000000  \n",
      "\n",
      "[5 rows x 128 columns]\n",
      "\n",
      "Shape of X.csv:\n",
      "(9999, 128)\n"
     ]
    }
   ],
   "source": [
    "print(\"First 5 rows of X.csv:\")\n",
    "print(X.head())\n",
    "\n",
    "print(\"\\nShape of X.csv:\")\n",
    "print(X.shape)"
   ]
  },
  {
   "cell_type": "code",
   "execution_count": 5,
   "id": "1155c3b4",
   "metadata": {},
   "outputs": [],
   "source": [
    "y = pd.read_csv('Features/y.csv').values.ravel()"
   ]
  },
  {
   "cell_type": "code",
   "execution_count": 6,
   "id": "9a1e4deb",
   "metadata": {},
   "outputs": [
    {
     "name": "stdout",
     "output_type": "stream",
     "text": [
      "First 5 rows of y.csv:\n",
      "[3 0 3 4 0]\n",
      "\n",
      "Shape of y.csv:\n",
      "(9999,)\n"
     ]
    }
   ],
   "source": [
    "print(\"First 5 rows of y.csv:\")\n",
    "print(y[:5])\n",
    "\n",
    "print(\"\\nShape of y.csv:\")\n",
    "print(y.shape)"
   ]
  },
  {
   "cell_type": "code",
   "execution_count": 9,
   "id": "718f2d32",
   "metadata": {},
   "outputs": [],
   "source": [
    "sse = []\n",
    "for k in range(5, 16):\n",
    "    kmeans = KMeans(n_clusters=k, random_state=0)\n",
    "    kmeans.fit(X)\n",
    "    sse.append(kmeans.inertia_)"
   ]
  },
  {
   "cell_type": "code",
   "execution_count": 10,
   "id": "359cd946",
   "metadata": {},
   "outputs": [
    {
     "data": {
      "image/png": "[encoded data removed]",
      "text/plain": [
       "<Figure size 640x480 with 1 Axes>"
      ]
     },
     "metadata": {},
     "output_type": "display_data"
    }
   ],
   "source": [
    "plt.plot(range(5, 16), sse, marker='o')\n",
    "plt.xlabel('Number of clusters')\n",
    "plt.ylabel('SSE')\n",
    "plt.title('SSE vs. Number of Clusters')\n",
    "plt.show()"
   ]
  },
  {
   "cell_type": "code",
   "execution_count": null,
   "id": "1004fae7",
   "metadata": {},
   "outputs": [],
   "source": []
  }
 ],
 "metadata": {
  "kernelspec": {
   "display_name": "Python 3 (ipykernel)",
   "language": "python",
   "name": "python3"
  },
  "language_info": {
   "codemirror_mode": {
    "name": "ipython",
    "version": 3
   },
   "file_extension": ".py",
   "mimetype": "text/x-python",
   "name": "python",
   "nbconvert_exporter": "python",
   "pygments_lexer": "ipython3",
   "version": "3.11.7"
  }
 },
 "nbformat": 4,
 "nbformat_minor": 5
}
